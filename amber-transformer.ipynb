{
 "cells": [
  {
   "cell_type": "markdown",
   "metadata": {},
   "source": [
    "Add imports"
   ]
  },
  {
   "cell_type": "code",
   "execution_count": 20,
   "metadata": {},
   "outputs": [],
   "source": [
    "import random\n",
    "import torch\n",
    "import math\n",
    "from datasets import load_dataset\n",
    "import sentencepiece as spm\n",
    "from torch.nn.utils.rnn import pad_sequence\n",
    "import matplotlib.pyplot as plt\n",
    "import os"
   ]
  },
  {
   "cell_type": "markdown",
   "metadata": {},
   "source": [
    "Set hyperparameters"
   ]
  },
  {
   "cell_type": "code",
   "execution_count": 21,
   "metadata": {},
   "outputs": [
    {
     "data": {
      "text/plain": [
       "<torch._C.Generator at 0x7fe5f8b40150>"
      ]
     },
     "execution_count": 21,
     "metadata": {},
     "output_type": "execute_result"
    }
   ],
   "source": [
    "\n",
    "embedding_size = 7\n",
    "hidden_layer_size = 11\n",
    "batch_size = 60\n",
    "num_epochs = 20\n",
    "vocab_size = 8000\n",
    "max_sequence_length = 4123\n",
    "\n",
    "torch.manual_seed(42)"
   ]
  },
  {
   "cell_type": "markdown",
   "metadata": {},
   "source": [
    "Load the dataset and train sentencepiece on it"
   ]
  },
  {
   "cell_type": "code",
   "execution_count": 22,
   "metadata": {},
   "outputs": [
    {
     "name": "stderr",
     "output_type": "stream",
     "text": [
      "Repo card metadata block was not found. Setting CardData to empty.\n"
     ]
    },
    {
     "name": "stdout",
     "output_type": "stream",
     "text": [
      "4123\n"
     ]
    },
    {
     "name": "stderr",
     "output_type": "stream",
     "text": [
      "sentencepiece_trainer.cc(77) LOG(INFO) Starts training with : \n",
      "trainer_spec {\n",
      "  input: sentences.txt\n",
      "  input_format: \n",
      "  model_prefix: sentences\n",
      "  model_type: UNIGRAM\n",
      "  vocab_size: 750\n",
      "  self_test_sample_size: 0\n",
      "  character_coverage: 0.9995\n",
      "  input_sentence_size: 0\n",
      "  shuffle_input_sentence: 1\n",
      "  seed_sentencepiece_size: 1000000\n",
      "  shrinking_factor: 0.75\n",
      "  max_sentence_length: 4192\n",
      "  num_threads: 16\n",
      "  num_sub_iterations: 2\n",
      "  max_sentencepiece_length: 16\n",
      "  split_by_unicode_script: 1\n",
      "  split_by_number: 1\n",
      "  split_by_whitespace: 1\n",
      "  split_digits: 0\n",
      "  pretokenization_delimiter: \n",
      "  treat_whitespace_as_suffix: 0\n",
      "  allow_whitespace_only_pieces: 0\n",
      "  required_chars: \n",
      "  byte_fallback: 0\n",
      "  vocabulary_output_piece_score: 1\n",
      "  train_extremely_large_corpus: 0\n",
      "  hard_vocab_limit: 1\n",
      "  use_all_vocab: 0\n",
      "  unk_id: 0\n",
      "  bos_id: 1\n",
      "  eos_id: 2\n",
      "  pad_id: -1\n",
      "  unk_piece: <unk>\n",
      "  bos_piece: <s>\n",
      "  eos_piece: </s>\n",
      "  pad_piece: <pad>\n",
      "  unk_surface:  ⁇ \n",
      "  enable_differential_privacy: 0\n",
      "  differential_privacy_noise_level: 0\n",
      "  differential_privacy_clipping_threshold: 0\n",
      "}\n",
      "normalizer_spec {\n",
      "  name: nmt_nfkc\n",
      "  add_dummy_prefix: 1\n",
      "  remove_extra_whitespaces: 1\n",
      "  escape_whitespaces: 1\n",
      "  normalization_rule_tsv: \n",
      "}\n",
      "denormalizer_spec {}\n",
      "trainer_interface.cc(351) LOG(INFO) SentenceIterator is not specified. Using MultiFileSentenceIterator.\n",
      "trainer_interface.cc(183) LOG(INFO) Loading corpus: sentences.txt\n",
      "trainer_interface.cc(407) LOG(INFO) Loaded all 13050 sentences\n",
      "trainer_interface.cc(423) LOG(INFO) Adding meta_piece: <unk>\n",
      "trainer_interface.cc(423) LOG(INFO) Adding meta_piece: <s>\n",
      "trainer_interface.cc(423) LOG(INFO) Adding meta_piece: </s>\n",
      "trainer_interface.cc(428) LOG(INFO) Normalizing sentences...\n",
      "trainer_interface.cc(537) LOG(INFO) all chars count=2593626\n",
      "trainer_interface.cc(548) LOG(INFO) Done: 99.9592% characters are covered.\n",
      "trainer_interface.cc(558) LOG(INFO) Alphabet size=56\n",
      "trainer_interface.cc(559) LOG(INFO) Final character coverage=0.999592\n",
      "trainer_interface.cc(591) LOG(INFO) Done! preprocessed 13050 sentences.\n",
      "unigram_model_trainer.cc(222) LOG(INFO) Making suffix array...\n",
      "unigram_model_trainer.cc(226) LOG(INFO) Extracting frequent sub strings... node_num=1478033\n",
      "unigram_model_trainer.cc(274) LOG(INFO) Initialized 20081 seed sentencepieces\n",
      "trainer_interface.cc(597) LOG(INFO) Tokenizing input sentences with whitespace: 13050\n",
      "trainer_interface.cc(608) LOG(INFO) Done! 19081\n",
      "unigram_model_trainer.cc(564) LOG(INFO) Using 19081 sentences for EM training\n",
      "unigram_model_trainer.cc(580) LOG(INFO) EM sub_iter=0 size=8685 obj=9.5731 num_tokens=39973 num_tokens/piece=4.60253\n",
      "unigram_model_trainer.cc(580) LOG(INFO) EM sub_iter=1 size=6419 obj=7.55693 num_tokens=40072 num_tokens/piece=6.24272\n",
      "unigram_model_trainer.cc(580) LOG(INFO) EM sub_iter=0 size=4814 obj=7.51142 num_tokens=42446 num_tokens/piece=8.8172\n",
      "unigram_model_trainer.cc(580) LOG(INFO) EM sub_iter=1 size=4813 obj=7.49514 num_tokens=42451 num_tokens/piece=8.82007\n",
      "unigram_model_trainer.cc(580) LOG(INFO) EM sub_iter=0 size=3609 obj=7.6025 num_tokens=47217 num_tokens/piece=13.0831\n",
      "unigram_model_trainer.cc(580) LOG(INFO) EM sub_iter=1 size=3609 obj=7.5804 num_tokens=47217 num_tokens/piece=13.0831\n",
      "unigram_model_trainer.cc(580) LOG(INFO) EM sub_iter=0 size=2706 obj=7.77331 num_tokens=53565 num_tokens/piece=19.7949\n",
      "unigram_model_trainer.cc(580) LOG(INFO) EM sub_iter=1 size=2706 obj=7.73956 num_tokens=53564 num_tokens/piece=19.7945\n",
      "unigram_model_trainer.cc(580) LOG(INFO) EM sub_iter=0 size=2029 obj=8.03861 num_tokens=60755 num_tokens/piece=29.9433\n",
      "unigram_model_trainer.cc(580) LOG(INFO) EM sub_iter=1 size=2029 obj=7.98868 num_tokens=60755 num_tokens/piece=29.9433\n",
      "unigram_model_trainer.cc(580) LOG(INFO) EM sub_iter=0 size=1521 obj=8.35737 num_tokens=67944 num_tokens/piece=44.6706\n",
      "unigram_model_trainer.cc(580) LOG(INFO) EM sub_iter=1 size=1521 obj=8.30276 num_tokens=67944 num_tokens/piece=44.6706\n",
      "unigram_model_trainer.cc(580) LOG(INFO) EM sub_iter=0 size=1140 obj=8.70976 num_tokens=75039 num_tokens/piece=65.8237\n",
      "unigram_model_trainer.cc(580) LOG(INFO) EM sub_iter=1 size=1140 obj=8.6495 num_tokens=75027 num_tokens/piece=65.8132\n",
      "unigram_model_trainer.cc(580) LOG(INFO) EM sub_iter=0 size=855 obj=9.10791 num_tokens=81474 num_tokens/piece=95.2912\n",
      "unigram_model_trainer.cc(580) LOG(INFO) EM sub_iter=1 size=855 obj=9.0402 num_tokens=81477 num_tokens/piece=95.2947\n",
      "unigram_model_trainer.cc(580) LOG(INFO) EM sub_iter=0 size=825 obj=9.09895 num_tokens=82382 num_tokens/piece=99.857\n",
      "unigram_model_trainer.cc(580) LOG(INFO) EM sub_iter=1 size=825 obj=9.09239 num_tokens=82382 num_tokens/piece=99.857\n",
      "trainer_interface.cc(686) LOG(INFO) Saving model: sentences.model\n",
      "trainer_interface.cc(698) LOG(INFO) Saving vocabs: sentences.vocab\n"
     ]
    }
   ],
   "source": [
    "# if not os.path.exists(\"sentences.txt\"):\n",
    "dataset = load_dataset(\"roneneldan/TinyStories\")\n",
    "\n",
    "sample_data = dataset[\"train\"]['text'][:3000]\n",
    "\n",
    "max_sequence_length = max(len(sentence) for sentence in sample_data)\n",
    "print(max_sequence_length)\n",
    "\n",
    "with open('sentences.txt', 'w') as f:\n",
    "    for sentence in sample_data:\n",
    "        if sentence.strip():  # Check if the stripped sentence is not empty\n",
    "            f.write(sentence)  # Write the sentence to the file with a newline\n",
    "\n",
    "with open(\"sentences.txt\", \"r\") as f:\n",
    "    lines = f.readlines()\n",
    "\n",
    "lines = [line for line in lines if line.strip()]\n",
    "\n",
    "with open(\"sentences.txt\", \"w\") as f:\n",
    "    f.writelines(lines)\n",
    "input_file = 'sentences.txt' \n",
    "prefix = 'sentences'\n",
    "vocab_size = 750\n",
    "\n",
    "spm.SentencePieceTrainer.train(\n",
    "    input=input_file, \n",
    "    model_prefix=prefix, \n",
    "    vocab_size=vocab_size\n",
    ")"
   ]
  },
  {
   "cell_type": "code",
   "execution_count": 23,
   "metadata": {},
   "outputs": [],
   "source": [
    "#define and initialise the sentencepiece tokenizer\n",
    "class SentencePieceTokenizer:\n",
    "    def __init__(self, model_path):\n",
    "        self.tokenizer = spm.SentencePieceProcessor(model_file=model_path)\n",
    "\n",
    "    def encode(self, text):\n",
    "        return self.tokenizer.encode(text, out_type=int)\n",
    "    \n",
    "    def decode(self, tokens):\n",
    "        return self.tokenizer.decode_pieces(tokens)\n",
    "\n",
    "model_path = \"sentences.model\"\n",
    "sentence_piece_tokenizer = SentencePieceTokenizer(model_path)\n",
    "\n",
    "foo = sentence_piece_tokenizer.encode('john') # [68, 27, 5]\n",
    "bar = sentence_piece_tokenizer.decode(foo)    # john\n"
   ]
  },
  {
   "cell_type": "code",
   "execution_count": 24,
   "metadata": {},
   "outputs": [],
   "source": [
    "class Dataset(torch.utils.data.Dataset):\n",
    "  def __init__(self):\n",
    "    f = open('sentences.txt', 'r')\n",
    "    self.stories = f.read().split('\\n')\n",
    "    f.close()\n",
    "\n",
    "  def __len__(self):\n",
    "    return len(self.stories)\n",
    "\n",
    "  def __getitem__(self, idx):\n",
    "    story = self.stories[idx]\n",
    "    return torch.tensor(sentence_piece_tokenizer.encode(story))\n",
    "  \n",
    "def collate_fn(batch):\n",
    "    # Sort batch by sequence length (descending order)\n",
    "    batch = sorted(batch, key=lambda x: len(x), reverse=True)\n",
    "    # Pad sequences to the same length\n",
    "    padded_sequences = pad_sequence(batch, batch_first=True, padding_value=0)\n",
    "    return padded_sequences\n",
    "\n",
    "\n",
    "ds = Dataset()\n",
    "dl = torch.utils.data.DataLoader(ds, batch_size=batch_size, shuffle=False, collate_fn=collate_fn)\n"
   ]
  },
  {
   "cell_type": "markdown",
   "metadata": {},
   "source": [
    "Create the simple transformer"
   ]
  },
  {
   "cell_type": "code",
   "execution_count": 25,
   "metadata": {},
   "outputs": [],
   "source": [
    "class BesSimpleTransformer(torch.nn.Module):\n",
    "  def __init__(self):\n",
    "    super(BesSimpleTransformer, self).__init__()\n",
    "    # Embedding part of the model\n",
    "    self.embedding    = torch.nn.Embedding(vocab_size, embedding_size)\n",
    "    self.pos_emb      = self.get_pos_matrix()\n",
    "    # Mask tensor trick\n",
    "    self.register_buffer('mask', torch.tril(torch.ones(max_sequence_length, max_sequence_length)))\n",
    "    # First decoder block \n",
    "    self.layer_00_key = torch.nn.Linear(embedding_size, hidden_layer_size)\n",
    "    self.layer_00_qry = torch.nn.Linear(embedding_size, hidden_layer_size)\n",
    "    self.layer_00_val = torch.nn.Linear(embedding_size, hidden_layer_size)\n",
    "    self.layer_00_ffw = torch.nn.Linear(hidden_layer_size, embedding_size)\n",
    "    # Second decoder block\n",
    "    self.layer_01_key = torch.nn.Linear(embedding_size, hidden_layer_size)\n",
    "    self.layer_01_qry = torch.nn.Linear(embedding_size, hidden_layer_size)\n",
    "    self.layer_01_val = torch.nn.Linear(embedding_size, hidden_layer_size)\n",
    "    self.layer_01_ffw = torch.nn.Linear(hidden_layer_size, embedding_size)\n",
    "    # Output of the model\n",
    "    self.map_to_vocab = torch.nn.Linear(embedding_size, vocab_size)\n",
    "\n",
    "  def forward(self, x):\n",
    "    emb = self.embedding(x) #embedding_size -> here supposedly 761?? why\n",
    "    pos = self.pos_emb[0:x.shape[0], :]\n",
    "    emb = emb + pos\n",
    "\n",
    "    key = self.layer_00_key(emb)\n",
    "    qry = self.layer_00_qry(emb)\n",
    "    val = self.layer_00_val(emb)\n",
    "    att = torch.mm(qry, key.t())\n",
    "    msk = self.mask[0:x.shape[0], 0:x.shape[0]]\n",
    "    att = att.masked_fill(msk == 0, float('-inf'))\n",
    "    att = torch.nn.functional.softmax(att, dim=1)\n",
    "    res = torch.mm(att, val)\n",
    "    res = self.layer_00_ffw(res)\n",
    "\n",
    "    key = self.layer_01_key(res)\n",
    "    qry = self.layer_01_qry(res)\n",
    "    val = self.layer_01_val(res)\n",
    "    att = torch.mm(qry, key.t())\n",
    "    msk = self.mask[0:x.shape[0], 0:x.shape[0]]\n",
    "    att = att.masked_fill(msk == 0, float('-inf'))\n",
    "    att = torch.nn.functional.softmax(att, dim=1)\n",
    "    res = torch.mm(att, val)\n",
    "    res = self.layer_01_ffw(res)\n",
    "\n",
    "    out = self.map_to_vocab(res)\n",
    "    return out\n",
    "\n",
    "  def get_pos_matrix(self):\n",
    "    store = torch.zeros(max_sequence_length, embedding_size)\n",
    "    for pos in range(max_sequence_length):\n",
    "      for i in range(0, embedding_size, 2):\n",
    "        denominator = 10000 ** (2 * i / embedding_size)\n",
    "        store[pos, i] = math.sin(pos / denominator)\n",
    "        if i + 1 < embedding_size: store[pos, i + 1] = math.cos(pos / denominator)\n",
    "    return store\n"
   ]
  },
  {
   "cell_type": "markdown",
   "metadata": {},
   "source": [
    "Initialise and train the transformer"
   ]
  },
  {
   "cell_type": "code",
   "execution_count": 26,
   "metadata": {},
   "outputs": [
    {
     "name": "stdout",
     "output_type": "stream",
     "text": [
      "Loss: 6.628210544586182\n",
      "Loss: 6.565324306488037\n",
      "Loss: 6.505987167358398\n",
      "Loss: 6.425851821899414\n",
      "Loss: 6.298823356628418\n",
      "Loss: 6.116059303283691\n",
      "Loss: 5.9751176834106445\n",
      "Loss: 5.880334377288818\n",
      "Loss: 5.808562755584717\n",
      "Loss: 5.751628398895264\n",
      "Loss: 5.706038475036621\n",
      "Loss: 5.669605255126953\n",
      "Loss: 5.640267848968506\n",
      "Loss: 5.616209506988525\n",
      "Loss: 5.596062660217285\n",
      "Loss: 5.578853130340576\n",
      "Loss: 5.5638837814331055\n",
      "Loss: 5.550646781921387\n",
      "Loss: 5.538785934448242\n",
      "Loss: 5.528066158294678\n"
     ]
    }
   ],
   "source": [
    "m = BesSimpleTransformer()\n",
    "opt = torch.optim.SGD(m.parameters(), lr=0.01)\n",
    "\n",
    "losses = []\n",
    "for epoch in range(num_epochs):\n",
    "  for idx, batch in enumerate(dl):\n",
    "    \n",
    "    sos = torch.tensor([2])\n",
    "    eos = torch.tensor([1])\n",
    "\n",
    "    x = batch[0]\n",
    "    x = torch.cat([sos, x])\n",
    "    y = torch.cat([x[1:], eos])\n",
    "\n",
    "    p = m(x)\n",
    "    l = torch.nn.functional.cross_entropy(p, y)\n",
    "    if idx % 1000 == 0: \n",
    "      print(\"Loss:\", l.item())\n",
    "      losses.append(l.item())\n",
    "    l.backward()\n",
    "    opt.step()\n",
    "    opt.zero_grad()\n",
    "\n",
    "  "
   ]
  },
  {
   "cell_type": "markdown",
   "metadata": {},
   "source": [
    "Map the losses to see how well the training has gone"
   ]
  },
  {
   "cell_type": "code",
   "execution_count": 27,
   "metadata": {},
   "outputs": [
    {
     "name": "stdout",
     "output_type": "stream",
     "text": [
      "5.528066158294678\n"
     ]
    },
    {
     "data": {
      "image/png": "[encoded data removed]",
      "text/plain": [
       "<Figure size 640x480 with 1 Axes>"
      ]
     },
     "metadata": {},
     "output_type": "display_data"
    }
   ],
   "source": [
    "print(losses[-1])\n",
    "\n",
    "# Plot the losses\n",
    "plt.plot(losses, label='Training Loss')\n",
    "plt.xlabel('Iteration')\n",
    "plt.ylabel('Loss')\n",
    "plt.title('Training Loss Over Iterations')\n",
    "plt.legend()\n",
    "plt.show()"
   ]
  },
  {
   "cell_type": "markdown",
   "metadata": {},
   "source": [
    "Define different sampling strategies (how do you choose the next token)"
   ]
  },
  {
   "cell_type": "code",
   "execution_count": 28,
   "metadata": {},
   "outputs": [],
   "source": [
    "#define different sampling approaches to test out\n",
    "def greedy_decode(next_token_options, x):\n",
    "  next_token = torch.argmax(next_token_options) # find index of maximum value in each row \n",
    "  x = torch.cat([x, next_token.unsqueeze(0)]) #here we're just adding the last, converted to 2D\n",
    "  return x\n",
    "\n",
    "def random_sample(next_token_options, x):\n",
    "  next_token = torch.multinomial(next_token_options, 1)  # Sample the next token using a multinomial distribution\n",
    "  x = torch.cat([x, next_token])  # Add the sampled token to the sequence\n",
    "  return x\n",
    "\n",
    "def top_k_sample(next_token_options, x, k=30):\n",
    "  top_k_values, top_k_indices = torch.topk(next_token_options, k)  # Get the top-k values and indices\n",
    "  print(\"choose from:\", sentence_piece_tokenizer.decode(top_k_indices.tolist()))\n",
    "  # next_token = top_k_indices[:, torch.randint(k, (1,))]  # Randomly select from the top-k tokens\n",
    "  next_token = top_k_indices[torch.randint(k, (1,))]\n",
    "  x = torch.cat([x, next_token])  # Add the selected token to the sequence\n",
    "  return x"
   ]
  },
  {
   "cell_type": "markdown",
   "metadata": {},
   "source": [
    "Generate some text from a random start token"
   ]
  },
  {
   "cell_type": "code",
   "execution_count": 29,
   "metadata": {},
   "outputs": [
    {
     "name": "stdout",
     "output_type": "stream",
     "text": [
      "find next token after: might\n",
      "choose from: . and the,  as tote wasdaedyo Theymri it her he Heoner Sheplu\n",
      "choose from: . and the, as  tote wasdayedo Theymri it He her heonpler Sheu\n",
      "choose from: . and the,s a  tote wasdayedo Theymri it He her heonl Sheperu\n",
      "choose from: . and the,s a  tote wasdayedo Theymri it He her heonlp Sheeru\n",
      "choose from: . and the,s a  tote wasdayedo Theymri it He her heonl Sheperu\n",
      "choose from: . and the,s a  tote wasdayedo Theymri it He her heonlp Sheuer\n",
      "choose from: . and the,s a  tote wasdayedo Theymri He it her heonlp Sheuer\n",
      "choose from: . and the,s a  tote wasdyaoed Theymri He it her helonp She hisu\n",
      "choose from: . and the,s a  tote wasdyaedo Theymri He it her helonp She hisu\n",
      "choose from: . and the,s a  tote wasdayedo Theymri it He her heonlpu Sheer\n",
      "choose from: . and the,s a  tote wasdayedo Theymri it He he heronlpuer She\n",
      "choose from: . and the,s a  tote wasdayedo Theymri it He he heronlpu Sheer\n",
      "choose from: . and the,s a  tote wasdayedom Theyri it He he heronlpuer She\n",
      "choose from: . and the,s a  tote wasdayedom Theyri it He he heronlpuer She\n",
      "choose from: . and the,s a  tote wasdayedom Theyri it He he heronlpuer She\n",
      "choose from: . and the,s a  tote wasdayedom Theyri He it he heronlpuer his\n",
      "choose from: . and the,s a  tote wasdayedom Theyri it He he heronlpuer She\n",
      "choose from: . and the,s a  tote wasdayedom Theyri it He he heronpluer She\n",
      "choose from: . and the,s a  tote wasdayedom Theyri it He he heronlpuer his\n",
      "Generate: mightr wason wasm She was He hera She anda and They wasp  he\n"
     ]
    }
   ],
   "source": [
    "random_start_token = random.randint(3, vocab_size)\n",
    "x = sentence_piece_tokenizer.decode([random_start_token])\n",
    "x = torch.cat([sos, torch.tensor(sentence_piece_tokenizer.encode(x))])\n",
    "print(\"find next token after:\", sentence_piece_tokenizer.decode(x.tolist()))\n",
    "while True:\n",
    "  p = m(x) #logits \n",
    "  p = torch.nn.functional.softmax(p, dim=1) #convert logits to likelihood out of 1\n",
    "  next_token_options = p[-1]\n",
    "  x = top_k_sample(next_token_options, x)\n",
    "  if x[-1] == 1 or len(p.tolist()) == 20: break #stop generating if last token is end token or sequence len is 17\n",
    "print(\"Generate:\", sentence_piece_tokenizer.decode(x.tolist()))"
   ]
  }
 ],
 "metadata": {
  "kernelspec": {
   "display_name": "Python 3",
   "language": "python",
   "name": "python3"
  },
  "language_info": {
   "codemirror_mode": {
    "name": "ipython",
    "version": 3
   },
   "file_extension": ".py",
   "mimetype": "text/x-python",
   "name": "python",
   "nbconvert_exporter": "python",
   "pygments_lexer": "ipython3",
   "version": "3.8.17"
  },
  "orig_nbformat": 4
 },
 "nbformat": 4,
 "nbformat_minor": 2
}
