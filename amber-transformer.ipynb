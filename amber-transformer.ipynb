{
 "cells": [
  {
   "cell_type": "markdown",
   "metadata": {},
   "source": [
    "Add imports"
   ]
  },
  {
   "cell_type": "code",
   "execution_count": 112,
   "metadata": {},
   "outputs": [],
   "source": [
    "import random\n",
    "import torch\n",
    "import math\n",
    "from datasets import load_dataset\n",
    "import sentencepiece as spm\n",
    "from torch.nn.utils.rnn import pad_sequence\n",
    "import matplotlib.pyplot as plt\n",
    "import os\n",
    "import wandb"
   ]
  },
  {
   "cell_type": "markdown",
   "metadata": {},
   "source": [
    "Set hyperparameters"
   ]
  },
  {
   "cell_type": "code",
   "execution_count": 113,
   "metadata": {},
   "outputs": [
    {
     "data": {
      "text/plain": [
       "<torch._C.Generator at 0x7f9268b45150>"
      ]
     },
     "execution_count": 113,
     "metadata": {},
     "output_type": "execute_result"
    }
   ],
   "source": [
    "\n",
    "embedding_size = 7\n",
    "hidden_layer_size = 11\n",
    "batch_size = 80\n",
    "num_epochs = 5\n",
    "vocab_size = 3000\n",
    "max_sequence_length = 4123\n",
    "learning_rate= 0.01\n",
    "data_sample_size = 8000\n",
    "\n",
    "torch.manual_seed(42)"
   ]
  },
  {
   "cell_type": "markdown",
   "metadata": {},
   "source": [
    "Load the dataset and train sentencepiece on it"
   ]
  },
  {
   "cell_type": "code",
   "execution_count": 114,
   "metadata": {},
   "outputs": [
    {
     "name": "stderr",
     "output_type": "stream",
     "text": [
      "Repo card metadata block was not found. Setting CardData to empty.\n"
     ]
    },
    {
     "name": "stdout",
     "output_type": "stream",
     "text": [
      "4123\n"
     ]
    },
    {
     "name": "stderr",
     "output_type": "stream",
     "text": [
      "sentencepiece_trainer.cc(77) LOG(INFO) Starts training with : \n",
      "trainer_spec {\n",
      "  input: sentences.txt\n",
      "  input_format: \n",
      "  model_prefix: sentences\n",
      "  model_type: UNIGRAM\n",
      "  vocab_size: 750\n",
      "  self_test_sample_size: 0\n",
      "  character_coverage: 0.9995\n",
      "  input_sentence_size: 0\n",
      "  shuffle_input_sentence: 1\n",
      "  seed_sentencepiece_size: 1000000\n",
      "  shrinking_factor: 0.75\n",
      "  max_sentence_length: 4192\n",
      "  num_threads: 16\n",
      "  num_sub_iterations: 2\n",
      "  max_sentencepiece_length: 16\n",
      "  split_by_unicode_script: 1\n",
      "  split_by_number: 1\n",
      "  split_by_whitespace: 1\n",
      "  split_digits: 0\n",
      "  pretokenization_delimiter: \n",
      "  treat_whitespace_as_suffix: 0\n",
      "  allow_whitespace_only_pieces: 0\n",
      "  required_chars: \n",
      "  byte_fallback: 0\n",
      "  vocabulary_output_piece_score: 1\n",
      "  train_extremely_large_corpus: 0\n",
      "  hard_vocab_limit: 1\n",
      "  use_all_vocab: 0\n",
      "  unk_id: 0\n",
      "  bos_id: 1\n",
      "  eos_id: 2\n",
      "  pad_id: -1\n",
      "  unk_piece: <unk>\n",
      "  bos_piece: <s>\n",
      "  eos_piece: </s>\n",
      "  pad_piece: <pad>\n",
      "  unk_surface:  ⁇ \n",
      "  enable_differential_privacy: 0\n",
      "  differential_privacy_noise_level: 0\n",
      "  differential_privacy_clipping_threshold: 0\n",
      "}\n",
      "normalizer_spec {\n",
      "  name: nmt_nfkc\n",
      "  add_dummy_prefix: 1\n",
      "  remove_extra_whitespaces: 1\n",
      "  escape_whitespaces: 1\n",
      "  normalization_rule_tsv: \n",
      "}\n",
      "denormalizer_spec {}\n",
      "trainer_interface.cc(351) LOG(INFO) SentenceIterator is not specified. Using MultiFileSentenceIterator.\n",
      "trainer_interface.cc(183) LOG(INFO) Loading corpus: sentences.txt\n",
      "trainer_interface.cc(407) LOG(INFO) Loaded all 32744 sentences\n",
      "trainer_interface.cc(423) LOG(INFO) Adding meta_piece: <unk>\n",
      "trainer_interface.cc(423) LOG(INFO) Adding meta_piece: <s>\n",
      "trainer_interface.cc(423) LOG(INFO) Adding meta_piece: </s>\n",
      "trainer_interface.cc(428) LOG(INFO) Normalizing sentences...\n",
      "trainer_interface.cc(537) LOG(INFO) all chars count=6763739\n",
      "trainer_interface.cc(548) LOG(INFO) Done: 99.9559% characters are covered.\n",
      "trainer_interface.cc(558) LOG(INFO) Alphabet size=56\n",
      "trainer_interface.cc(559) LOG(INFO) Final character coverage=0.999559\n",
      "trainer_interface.cc(591) LOG(INFO) Done! preprocessed 32744 sentences.\n",
      "unigram_model_trainer.cc(222) LOG(INFO) Making suffix array...\n",
      "unigram_model_trainer.cc(226) LOG(INFO) Extracting frequent sub strings... node_num=3881789\n",
      "unigram_model_trainer.cc(274) LOG(INFO) Initialized 27691 seed sentencepieces\n",
      "trainer_interface.cc(597) LOG(INFO) Tokenizing input sentences with whitespace: 32744\n",
      "trainer_interface.cc(608) LOG(INFO) Done! 30288\n",
      "unigram_model_trainer.cc(564) LOG(INFO) Using 30288 sentences for EM training\n",
      "unigram_model_trainer.cc(580) LOG(INFO) EM sub_iter=0 size=12479 obj=9.55531 num_tokens=66133 num_tokens/piece=5.29954\n",
      "unigram_model_trainer.cc(580) LOG(INFO) EM sub_iter=1 size=8905 obj=7.49046 num_tokens=66296 num_tokens/piece=7.44481\n",
      "unigram_model_trainer.cc(580) LOG(INFO) EM sub_iter=0 size=6677 obj=7.42899 num_tokens=69682 num_tokens/piece=10.4361\n",
      "unigram_model_trainer.cc(580) LOG(INFO) EM sub_iter=1 size=6677 obj=7.4164 num_tokens=69716 num_tokens/piece=10.4412\n",
      "unigram_model_trainer.cc(580) LOG(INFO) EM sub_iter=0 size=5007 obj=7.47057 num_tokens=76221 num_tokens/piece=15.2229\n",
      "unigram_model_trainer.cc(580) LOG(INFO) EM sub_iter=1 size=5007 obj=7.45923 num_tokens=76217 num_tokens/piece=15.2221\n",
      "unigram_model_trainer.cc(580) LOG(INFO) EM sub_iter=0 size=3755 obj=7.56054 num_tokens=84269 num_tokens/piece=22.4418\n",
      "unigram_model_trainer.cc(580) LOG(INFO) EM sub_iter=1 size=3755 obj=7.54102 num_tokens=84269 num_tokens/piece=22.4418\n",
      "unigram_model_trainer.cc(580) LOG(INFO) EM sub_iter=0 size=2816 obj=7.72516 num_tokens=94105 num_tokens/piece=33.418\n",
      "unigram_model_trainer.cc(580) LOG(INFO) EM sub_iter=1 size=2816 obj=7.69175 num_tokens=94105 num_tokens/piece=33.418\n",
      "unigram_model_trainer.cc(580) LOG(INFO) EM sub_iter=0 size=2112 obj=7.96843 num_tokens=104955 num_tokens/piece=49.6946\n",
      "unigram_model_trainer.cc(580) LOG(INFO) EM sub_iter=1 size=2112 obj=7.91988 num_tokens=104955 num_tokens/piece=49.6946\n",
      "unigram_model_trainer.cc(580) LOG(INFO) EM sub_iter=0 size=1584 obj=8.2701 num_tokens=116465 num_tokens/piece=73.5259\n",
      "unigram_model_trainer.cc(580) LOG(INFO) EM sub_iter=1 size=1584 obj=8.21078 num_tokens=116465 num_tokens/piece=73.5259\n",
      "unigram_model_trainer.cc(580) LOG(INFO) EM sub_iter=0 size=1188 obj=8.60135 num_tokens=128152 num_tokens/piece=107.872\n",
      "unigram_model_trainer.cc(580) LOG(INFO) EM sub_iter=1 size=1188 obj=8.54365 num_tokens=128152 num_tokens/piece=107.872\n",
      "unigram_model_trainer.cc(580) LOG(INFO) EM sub_iter=0 size=891 obj=8.973 num_tokens=138196 num_tokens/piece=155.102\n",
      "unigram_model_trainer.cc(580) LOG(INFO) EM sub_iter=1 size=891 obj=8.90219 num_tokens=138196 num_tokens/piece=155.102\n",
      "unigram_model_trainer.cc(580) LOG(INFO) EM sub_iter=0 size=825 obj=9.01121 num_tokens=140508 num_tokens/piece=170.313\n",
      "unigram_model_trainer.cc(580) LOG(INFO) EM sub_iter=1 size=825 obj=8.99709 num_tokens=140508 num_tokens/piece=170.313\n",
      "trainer_interface.cc(686) LOG(INFO) Saving model: sentences.model\n",
      "trainer_interface.cc(698) LOG(INFO) Saving vocabs: sentences.vocab\n"
     ]
    }
   ],
   "source": [
    "# if not os.path.exists(\"sentences.txt\"):\n",
    "dataset = load_dataset(\"roneneldan/TinyStories\")\n",
    "\n",
    "sample_data = dataset[\"train\"]['text'][:data_sample_size]\n",
    "\n",
    "max_sequence_length = max(len(sentence) for sentence in sample_data)\n",
    "print(max_sequence_length)\n",
    "\n",
    "with open('sentences.txt', 'w') as f:\n",
    "    for sentence in sample_data:\n",
    "        if sentence.strip():  # Check if the stripped sentence is not empty\n",
    "            f.write(sentence)  # Write the sentence to the file with a newline\n",
    "\n",
    "with open(\"sentences.txt\", \"r\") as f:\n",
    "    lines = f.readlines()\n",
    "\n",
    "lines = [line for line in lines if line.strip()]\n",
    "\n",
    "with open(\"sentences.txt\", \"w\") as f:\n",
    "    f.writelines(lines)\n",
    "input_file = 'sentences.txt' \n",
    "prefix = 'sentences'\n",
    "vocab_size = 750\n",
    "\n",
    "spm.SentencePieceTrainer.train(\n",
    "    input=input_file, \n",
    "    model_prefix=prefix, \n",
    "    vocab_size=vocab_size\n",
    ")"
   ]
  },
  {
   "cell_type": "code",
   "execution_count": 115,
   "metadata": {},
   "outputs": [],
   "source": [
    "#define and initialise the sentencepiece tokenizer\n",
    "class SentencePieceTokenizer:\n",
    "    def __init__(self, model_path):\n",
    "        self.tokenizer = spm.SentencePieceProcessor(model_file=model_path)\n",
    "\n",
    "    def encode(self, text):\n",
    "        return self.tokenizer.encode(text, out_type=int)\n",
    "    \n",
    "    def decode(self, tokens):\n",
    "        return self.tokenizer.decode_pieces(tokens)\n",
    "\n",
    "model_path = \"sentences.model\"\n",
    "sentence_piece_tokenizer = SentencePieceTokenizer(model_path)\n",
    "\n",
    "foo = sentence_piece_tokenizer.encode('john') # [68, 27, 5]\n",
    "bar = sentence_piece_tokenizer.decode(foo)    # john\n"
   ]
  },
  {
   "cell_type": "code",
   "execution_count": 116,
   "metadata": {},
   "outputs": [],
   "source": [
    "class Dataset(torch.utils.data.Dataset):\n",
    "  def __init__(self):\n",
    "    f = open('sentences.txt', 'r')\n",
    "    self.stories = f.read().split('\\n')\n",
    "    f.close()\n",
    "\n",
    "  def __len__(self):\n",
    "    return len(self.stories)\n",
    "\n",
    "  def __getitem__(self, idx):\n",
    "    story = self.stories[idx]\n",
    "    return torch.tensor(sentence_piece_tokenizer.encode(story))\n",
    "  \n",
    "def collate_fn(batch):\n",
    "    # Sort batch by sequence length (descending order)\n",
    "    batch = sorted(batch, key=lambda x: len(x), reverse=True)\n",
    "    # Pad sequences to the same length\n",
    "    padded_sequences = pad_sequence(batch, batch_first=True, padding_value=0)\n",
    "    return padded_sequences\n",
    "\n",
    "\n",
    "ds = Dataset()\n",
    "dl = torch.utils.data.DataLoader(ds, batch_size=batch_size, shuffle=True, collate_fn=collate_fn)\n"
   ]
  },
  {
   "cell_type": "markdown",
   "metadata": {},
   "source": [
    "Create the simple transformer"
   ]
  },
  {
   "cell_type": "code",
   "execution_count": 117,
   "metadata": {},
   "outputs": [],
   "source": [
    "class BesSimpleTransformer(torch.nn.Module):\n",
    "  def __init__(self):\n",
    "    super(BesSimpleTransformer, self).__init__()\n",
    "    # Embedding part of the model\n",
    "    self.embedding    = torch.nn.Embedding(vocab_size, embedding_size)\n",
    "    self.pos_emb      = self.get_pos_matrix()\n",
    "    # Mask tensor trick\n",
    "    self.register_buffer('mask', torch.tril(torch.ones(max_sequence_length, max_sequence_length)))\n",
    "    # First decoder block \n",
    "    self.layer_00_key = torch.nn.Linear(embedding_size, hidden_layer_size)\n",
    "    self.layer_00_qry = torch.nn.Linear(embedding_size, hidden_layer_size)\n",
    "    self.layer_00_val = torch.nn.Linear(embedding_size, hidden_layer_size)\n",
    "    self.layer_00_ffw = torch.nn.Linear(hidden_layer_size, embedding_size)\n",
    "    # Second decoder block\n",
    "    self.layer_01_key = torch.nn.Linear(embedding_size, hidden_layer_size)\n",
    "    self.layer_01_qry = torch.nn.Linear(embedding_size, hidden_layer_size)\n",
    "    self.layer_01_val = torch.nn.Linear(embedding_size, hidden_layer_size)\n",
    "    self.layer_01_ffw = torch.nn.Linear(hidden_layer_size, embedding_size)\n",
    "    # Output of the model\n",
    "    self.map_to_vocab = torch.nn.Linear(embedding_size, vocab_size)\n",
    "\n",
    "  def forward(self, x):\n",
    "    emb = self.embedding(x) #embedding_size -> here supposedly 761?? why\n",
    "    pos = self.pos_emb[0:x.shape[0], :]\n",
    "    emb = emb + pos\n",
    "\n",
    "    key = self.layer_00_key(emb)\n",
    "    qry = self.layer_00_qry(emb)\n",
    "    val = self.layer_00_val(emb)\n",
    "    att = torch.mm(qry, key.t())\n",
    "    msk = self.mask[0:x.shape[0], 0:x.shape[0]]\n",
    "    att = att.masked_fill(msk == 0, float('-inf'))\n",
    "    att = torch.nn.functional.softmax(att, dim=1)\n",
    "    res = torch.mm(att, val)\n",
    "    res = self.layer_00_ffw(res)\n",
    "\n",
    "    key = self.layer_01_key(res)\n",
    "    qry = self.layer_01_qry(res)\n",
    "    val = self.layer_01_val(res)\n",
    "    att = torch.mm(qry, key.t())\n",
    "    msk = self.mask[0:x.shape[0], 0:x.shape[0]]\n",
    "    att = att.masked_fill(msk == 0, float('-inf'))\n",
    "    att = torch.nn.functional.softmax(att, dim=1)\n",
    "    res = torch.mm(att, val)\n",
    "    res = self.layer_01_ffw(res)\n",
    "\n",
    "    out = self.map_to_vocab(res)\n",
    "    return out\n",
    "\n",
    "  def get_pos_matrix(self):\n",
    "    store = torch.zeros(max_sequence_length, embedding_size)\n",
    "    for pos in range(max_sequence_length):\n",
    "      for i in range(0, embedding_size, 2):\n",
    "        denominator = 10000 ** (2 * i / embedding_size)\n",
    "        store[pos, i] = math.sin(pos / denominator)\n",
    "        if i + 1 < embedding_size: store[pos, i + 1] = math.cos(pos / denominator)\n",
    "    return store\n"
   ]
  },
  {
   "cell_type": "markdown",
   "metadata": {},
   "source": [
    "Initialise and train the transformer"
   ]
  },
  {
   "cell_type": "code",
   "execution_count": 118,
   "metadata": {},
   "outputs": [
    {
     "data": {
      "text/html": [
       "Finishing last run (ID:322h400v) before initializing another..."
      ],
      "text/plain": [
       "<IPython.core.display.HTML object>"
      ]
     },
     "metadata": {},
     "output_type": "display_data"
    },
    {
     "data": {
      "text/html": [
       "Waiting for W&B process to finish... <strong style=\"color:green\">(success).</strong>"
      ],
      "text/plain": [
       "<IPython.core.display.HTML object>"
      ]
     },
     "metadata": {},
     "output_type": "display_data"
    },
    {
     "name": "stderr",
     "output_type": "stream",
     "text": [
      "wandb: WARNING Source type is set to 'repo' but some required information is missing from the environment. A job will not be created from this run. See https://docs.wandb.ai/guides/launch/create-job\n"
     ]
    },
    {
     "data": {
      "text/html": [
       " View run <strong style=\"color:#cdcd00\">firm-paper-11</strong> at: <a href='https://wandb.ai/a-rignell16/amber-transformer/runs/322h400v' target=\"_blank\">https://wandb.ai/a-rignell16/amber-transformer/runs/322h400v</a><br/>Synced 6 W&B file(s), 0 media file(s), 0 artifact file(s) and 0 other file(s)"
      ],
      "text/plain": [
       "<IPython.core.display.HTML object>"
      ]
     },
     "metadata": {},
     "output_type": "display_data"
    },
    {
     "data": {
      "text/html": [
       "Find logs at: <code>./wandb/run-20230821_101558-322h400v/logs</code>"
      ],
      "text/plain": [
       "<IPython.core.display.HTML object>"
      ]
     },
     "metadata": {},
     "output_type": "display_data"
    },
    {
     "data": {
      "text/html": [
       "Successfully finished last run (ID:322h400v). Initializing new run:<br/>"
      ],
      "text/plain": [
       "<IPython.core.display.HTML object>"
      ]
     },
     "metadata": {},
     "output_type": "display_data"
    },
    {
     "data": {
      "text/html": [
       "Tracking run with wandb version 0.15.8"
      ],
      "text/plain": [
       "<IPython.core.display.HTML object>"
      ]
     },
     "metadata": {},
     "output_type": "display_data"
    },
    {
     "data": {
      "text/html": [
       "Run data is saved locally in <code>/Users/amberrignell/machine-learning/transformer/wandb/run-20230821_102825-bq9qa8cg</code>"
      ],
      "text/plain": [
       "<IPython.core.display.HTML object>"
      ]
     },
     "metadata": {},
     "output_type": "display_data"
    },
    {
     "data": {
      "text/html": [
       "Syncing run <strong><a href='https://wandb.ai/a-rignell16/amber-transformer/runs/bq9qa8cg' target=\"_blank\">eternal-mountain-12</a></strong> to <a href='https://wandb.ai/a-rignell16/amber-transformer' target=\"_blank\">Weights & Biases</a> (<a href='https://wandb.me/run' target=\"_blank\">docs</a>)<br/>"
      ],
      "text/plain": [
       "<IPython.core.display.HTML object>"
      ]
     },
     "metadata": {},
     "output_type": "display_data"
    },
    {
     "data": {
      "text/html": [
       " View project at <a href='https://wandb.ai/a-rignell16/amber-transformer' target=\"_blank\">https://wandb.ai/a-rignell16/amber-transformer</a>"
      ],
      "text/plain": [
       "<IPython.core.display.HTML object>"
      ]
     },
     "metadata": {},
     "output_type": "display_data"
    },
    {
     "data": {
      "text/html": [
       " View run at <a href='https://wandb.ai/a-rignell16/amber-transformer/runs/bq9qa8cg' target=\"_blank\">https://wandb.ai/a-rignell16/amber-transformer/runs/bq9qa8cg</a>"
      ],
      "text/plain": [
       "<IPython.core.display.HTML object>"
      ]
     },
     "metadata": {},
     "output_type": "display_data"
    },
    {
     "data": {
      "text/html": [
       "<button onClick=\"this.nextSibling.style.display='block';this.style.display='none';\">Display W&B run</button><iframe src='https://wandb.ai/a-rignell16/amber-transformer/runs/bq9qa8cg?jupyter=true' style='border:none;width:100%;height:420px;display:none;'></iframe>"
      ],
      "text/plain": [
       "<wandb.sdk.wandb_run.Run at 0x7f91a0c42160>"
      ]
     },
     "execution_count": 118,
     "metadata": {},
     "output_type": "execute_result"
    }
   ],
   "source": [
    "wandb.init(\n",
    "    # set the wandb project where this run will be logged\n",
    "    project=\"amber-transformer\",\n",
    "    \n",
    "    # track hyperparameters and run metadata\n",
    "    config= {\n",
    "    \"architecture\": \"transformer\",\n",
    "    \"dataset\": \"roneneldan/TinyStories\",\n",
    "    \"embedding_size\":embedding_size,\n",
    "    \"hidden_layer_size\": hidden_layer_size, \n",
    "    \"batch_size\": batch_size,\n",
    "    \"num_epochs\": num_epochs,\n",
    "    \"vocab_size\":vocab_size,\n",
    "    \"learning_rate\":learning_rate,\n",
    "    \"data_sample_size\": data_sample_size\n",
    "    }\n",
    ")"
   ]
  },
  {
   "cell_type": "code",
   "execution_count": 119,
   "metadata": {},
   "outputs": [
    {
     "name": "stdout",
     "output_type": "stream",
     "text": [
      "Loss: 6.648664951324463\n",
      "Loss: 6.580331325531006\n",
      "Loss: 6.416570663452148\n",
      "Loss: 6.223299026489258\n",
      "Loss: 6.037537574768066\n"
     ]
    }
   ],
   "source": [
    "m = BesSimpleTransformer()\n",
    "opt = torch.optim.SGD(m.parameters(), lr=learning_rate)\n",
    "\n",
    "losses = []\n",
    "for epoch in range(num_epochs):\n",
    "  for idx, batch in enumerate(dl):\n",
    "    \n",
    "    sos = torch.tensor([2])\n",
    "    eos = torch.tensor([1])\n",
    "\n",
    "    x = batch[0]\n",
    "    x = torch.cat([sos, x])\n",
    "    y = torch.cat([x[1:], eos])\n",
    "\n",
    "    p = m(x)\n",
    "    l = torch.nn.functional.cross_entropy(p, y)\n",
    "    if idx % 1000 == 0: \n",
    "      print(\"Loss:\", l.item())\n",
    "      losses.append(l.item())\n",
    "      wandb.log({\"loss\": l})\n",
    "    l.backward()\n",
    "    opt.step()\n",
    "    opt.zero_grad()\n",
    "\n",
    "  "
   ]
  },
  {
   "cell_type": "markdown",
   "metadata": {},
   "source": [
    "Map the losses to see how well the training has gone"
   ]
  },
  {
   "cell_type": "code",
   "execution_count": 120,
   "metadata": {},
   "outputs": [
    {
     "data": {
      "image/png": "[encoded data removed]",
      "text/plain": [
       "<Figure size 640x480 with 1 Axes>"
      ]
     },
     "metadata": {},
     "output_type": "display_data"
    },
    {
     "ename": "Error",
     "evalue": "plotly is required to log interactive plots, install with: `pip install plotly` or convert the plot to an image with `wandb.Image(plt)`",
     "output_type": "error",
     "traceback": [
      "\u001b[0;31m---------------------------------------------------------------------------\u001b[0m",
      "\u001b[0;31mError\u001b[0m                                     Traceback (most recent call last)",
      "Cell \u001b[0;32mIn[120], line 9\u001b[0m\n\u001b[1;32m      6\u001b[0m plt\u001b[39m.\u001b[39mlegend()\n\u001b[1;32m      7\u001b[0m plt\u001b[39m.\u001b[39mshow()\n\u001b[0;32m----> 9\u001b[0m wandb\u001b[39m.\u001b[39;49mlog({\u001b[39m\"\u001b[39;49m\u001b[39mtraining_loss_chart\u001b[39;49m\u001b[39m\"\u001b[39;49m: plt})\n",
      "File \u001b[0;32m~/miniconda3/envs/amber-transformer/lib/python3.8/site-packages/wandb/sdk/wandb_run.py:390\u001b[0m, in \u001b[0;36m_run_decorator._noop.<locals>.wrapper\u001b[0;34m(self, *args, **kwargs)\u001b[0m\n\u001b[1;32m    387\u001b[0m         wandb\u001b[39m.\u001b[39mtermwarn(message, repeat\u001b[39m=\u001b[39m\u001b[39mFalse\u001b[39;00m)\n\u001b[1;32m    388\u001b[0m         \u001b[39mreturn\u001b[39;00m \u001b[39mcls\u001b[39m\u001b[39m.\u001b[39mDummy()\n\u001b[0;32m--> 390\u001b[0m \u001b[39mreturn\u001b[39;00m func(\u001b[39mself\u001b[39;49m, \u001b[39m*\u001b[39;49margs, \u001b[39m*\u001b[39;49m\u001b[39m*\u001b[39;49mkwargs)\n",
      "File \u001b[0;32m~/miniconda3/envs/amber-transformer/lib/python3.8/site-packages/wandb/sdk/wandb_run.py:341\u001b[0m, in \u001b[0;36m_run_decorator._noop_on_finish.<locals>.decorator_fn.<locals>.wrapper_fn\u001b[0;34m(self, *args, **kwargs)\u001b[0m\n\u001b[1;32m    338\u001b[0m \u001b[39m@functools\u001b[39m\u001b[39m.\u001b[39mwraps(func)\n\u001b[1;32m    339\u001b[0m \u001b[39mdef\u001b[39;00m \u001b[39mwrapper_fn\u001b[39m(\u001b[39mself\u001b[39m: Type[\u001b[39m\"\u001b[39m\u001b[39mRun\u001b[39m\u001b[39m\"\u001b[39m], \u001b[39m*\u001b[39margs: Any, \u001b[39m*\u001b[39m\u001b[39m*\u001b[39mkwargs: Any) \u001b[39m-\u001b[39m\u001b[39m>\u001b[39m Any:\n\u001b[1;32m    340\u001b[0m     \u001b[39mif\u001b[39;00m \u001b[39mnot\u001b[39;00m \u001b[39mgetattr\u001b[39m(\u001b[39mself\u001b[39m, \u001b[39m\"\u001b[39m\u001b[39m_is_finished\u001b[39m\u001b[39m\"\u001b[39m, \u001b[39mFalse\u001b[39;00m):\n\u001b[0;32m--> 341\u001b[0m         \u001b[39mreturn\u001b[39;00m func(\u001b[39mself\u001b[39;49m, \u001b[39m*\u001b[39;49margs, \u001b[39m*\u001b[39;49m\u001b[39m*\u001b[39;49mkwargs)\n\u001b[1;32m    343\u001b[0m     default_message \u001b[39m=\u001b[39m (\n\u001b[1;32m    344\u001b[0m         \u001b[39mf\u001b[39m\u001b[39m\"\u001b[39m\u001b[39mRun (\u001b[39m\u001b[39m{\u001b[39;00m\u001b[39mself\u001b[39m\u001b[39m.\u001b[39mid\u001b[39m}\u001b[39;00m\u001b[39m) is finished. The call to `\u001b[39m\u001b[39m{\u001b[39;00mfunc\u001b[39m.\u001b[39m\u001b[39m__name__\u001b[39m\u001b[39m}\u001b[39;00m\u001b[39m` will be ignored. \u001b[39m\u001b[39m\"\u001b[39m\n\u001b[1;32m    345\u001b[0m         \u001b[39mf\u001b[39m\u001b[39m\"\u001b[39m\u001b[39mPlease make sure that you are using an active run.\u001b[39m\u001b[39m\"\u001b[39m\n\u001b[1;32m    346\u001b[0m     )\n\u001b[1;32m    347\u001b[0m     resolved_message \u001b[39m=\u001b[39m message \u001b[39mor\u001b[39;00m default_message\n",
      "File \u001b[0;32m~/miniconda3/envs/amber-transformer/lib/python3.8/site-packages/wandb/sdk/wandb_run.py:331\u001b[0m, in \u001b[0;36m_run_decorator._attach.<locals>.wrapper\u001b[0;34m(self, *args, **kwargs)\u001b[0m\n\u001b[1;32m    329\u001b[0m         \u001b[39mraise\u001b[39;00m e\n\u001b[1;32m    330\u001b[0m     \u001b[39mcls\u001b[39m\u001b[39m.\u001b[39m_is_attaching \u001b[39m=\u001b[39m \u001b[39m\"\u001b[39m\u001b[39m\"\u001b[39m\n\u001b[0;32m--> 331\u001b[0m \u001b[39mreturn\u001b[39;00m func(\u001b[39mself\u001b[39;49m, \u001b[39m*\u001b[39;49margs, \u001b[39m*\u001b[39;49m\u001b[39m*\u001b[39;49mkwargs)\n",
      "File \u001b[0;32m~/miniconda3/envs/amber-transformer/lib/python3.8/site-packages/wandb/sdk/wandb_run.py:1752\u001b[0m, in \u001b[0;36mRun.log\u001b[0;34m(self, data, step, commit, sync)\u001b[0m\n\u001b[1;32m   1745\u001b[0m \u001b[39mif\u001b[39;00m sync \u001b[39mis\u001b[39;00m \u001b[39mnot\u001b[39;00m \u001b[39mNone\u001b[39;00m:\n\u001b[1;32m   1746\u001b[0m     deprecate\u001b[39m.\u001b[39mdeprecate(\n\u001b[1;32m   1747\u001b[0m         field_name\u001b[39m=\u001b[39mdeprecate\u001b[39m.\u001b[39mDeprecated\u001b[39m.\u001b[39mrun__log_sync,\n\u001b[1;32m   1748\u001b[0m         warning_message\u001b[39m=\u001b[39m(\n\u001b[1;32m   1749\u001b[0m             \u001b[39m\"\u001b[39m\u001b[39m`sync` argument is deprecated and does not affect the behaviour of `wandb.log`\u001b[39m\u001b[39m\"\u001b[39m\n\u001b[1;32m   1750\u001b[0m         ),\n\u001b[1;32m   1751\u001b[0m     )\n\u001b[0;32m-> 1752\u001b[0m \u001b[39mself\u001b[39;49m\u001b[39m.\u001b[39;49m_log(data\u001b[39m=\u001b[39;49mdata, step\u001b[39m=\u001b[39;49mstep, commit\u001b[39m=\u001b[39;49mcommit)\n",
      "File \u001b[0;32m~/miniconda3/envs/amber-transformer/lib/python3.8/site-packages/wandb/sdk/wandb_run.py:1527\u001b[0m, in \u001b[0;36mRun._log\u001b[0;34m(self, data, step, commit)\u001b[0m\n\u001b[1;32m   1524\u001b[0m \u001b[39mif\u001b[39;00m \u001b[39many\u001b[39m(\u001b[39mnot\u001b[39;00m \u001b[39misinstance\u001b[39m(key, \u001b[39mstr\u001b[39m) \u001b[39mfor\u001b[39;00m key \u001b[39min\u001b[39;00m data\u001b[39m.\u001b[39mkeys()):\n\u001b[1;32m   1525\u001b[0m     \u001b[39mraise\u001b[39;00m \u001b[39mValueError\u001b[39;00m(\u001b[39m\"\u001b[39m\u001b[39mKey values passed to `wandb.log` must be strings.\u001b[39m\u001b[39m\"\u001b[39m)\n\u001b[0;32m-> 1527\u001b[0m \u001b[39mself\u001b[39;49m\u001b[39m.\u001b[39;49m_partial_history_callback(data, step, commit)\n\u001b[1;32m   1529\u001b[0m \u001b[39mif\u001b[39;00m step \u001b[39mis\u001b[39;00m \u001b[39mnot\u001b[39;00m \u001b[39mNone\u001b[39;00m:\n\u001b[1;32m   1530\u001b[0m     \u001b[39mif\u001b[39;00m os\u001b[39m.\u001b[39mgetpid() \u001b[39m!=\u001b[39m \u001b[39mself\u001b[39m\u001b[39m.\u001b[39m_init_pid \u001b[39mor\u001b[39;00m \u001b[39mself\u001b[39m\u001b[39m.\u001b[39m_is_attached:\n",
      "File \u001b[0;32m~/miniconda3/envs/amber-transformer/lib/python3.8/site-packages/wandb/sdk/wandb_run.py:1397\u001b[0m, in \u001b[0;36mRun._partial_history_callback\u001b[0;34m(self, row, step, commit)\u001b[0m\n\u001b[1;32m   1394\u001b[0m \u001b[39mif\u001b[39;00m \u001b[39mself\u001b[39m\u001b[39m.\u001b[39m_backend \u001b[39mand\u001b[39;00m \u001b[39mself\u001b[39m\u001b[39m.\u001b[39m_backend\u001b[39m.\u001b[39minterface:\n\u001b[1;32m   1395\u001b[0m     not_using_tensorboard \u001b[39m=\u001b[39m \u001b[39mlen\u001b[39m(wandb\u001b[39m.\u001b[39mpatched[\u001b[39m\"\u001b[39m\u001b[39mtensorboard\u001b[39m\u001b[39m\"\u001b[39m]) \u001b[39m==\u001b[39m \u001b[39m0\u001b[39m\n\u001b[0;32m-> 1397\u001b[0m     \u001b[39mself\u001b[39;49m\u001b[39m.\u001b[39;49m_backend\u001b[39m.\u001b[39;49minterface\u001b[39m.\u001b[39;49mpublish_partial_history(\n\u001b[1;32m   1398\u001b[0m         row,\n\u001b[1;32m   1399\u001b[0m         user_step\u001b[39m=\u001b[39;49m\u001b[39mself\u001b[39;49m\u001b[39m.\u001b[39;49m_step,\n\u001b[1;32m   1400\u001b[0m         step\u001b[39m=\u001b[39;49mstep,\n\u001b[1;32m   1401\u001b[0m         flush\u001b[39m=\u001b[39;49mcommit,\n\u001b[1;32m   1402\u001b[0m         publish_step\u001b[39m=\u001b[39;49mnot_using_tensorboard,\n\u001b[1;32m   1403\u001b[0m     )\n",
      "File \u001b[0;32m~/miniconda3/envs/amber-transformer/lib/python3.8/site-packages/wandb/sdk/interface/interface.py:635\u001b[0m, in \u001b[0;36mInterfaceBase.publish_partial_history\u001b[0;34m(self, data, user_step, step, flush, publish_step, run)\u001b[0m\n\u001b[1;32m    624\u001b[0m \u001b[39mdef\u001b[39;00m \u001b[39mpublish_partial_history\u001b[39m(\n\u001b[1;32m    625\u001b[0m     \u001b[39mself\u001b[39m,\n\u001b[1;32m    626\u001b[0m     data: \u001b[39mdict\u001b[39m,\n\u001b[0;32m   (...)\u001b[0m\n\u001b[1;32m    631\u001b[0m     run: Optional[\u001b[39m\"\u001b[39m\u001b[39mRun\u001b[39m\u001b[39m\"\u001b[39m] \u001b[39m=\u001b[39m \u001b[39mNone\u001b[39;00m,\n\u001b[1;32m    632\u001b[0m ) \u001b[39m-\u001b[39m\u001b[39m>\u001b[39m \u001b[39mNone\u001b[39;00m:\n\u001b[1;32m    633\u001b[0m     run \u001b[39m=\u001b[39m run \u001b[39mor\u001b[39;00m \u001b[39mself\u001b[39m\u001b[39m.\u001b[39m_run\n\u001b[0;32m--> 635\u001b[0m     data \u001b[39m=\u001b[39m history_dict_to_json(run, data, step\u001b[39m=\u001b[39;49muser_step, ignore_copy_err\u001b[39m=\u001b[39;49m\u001b[39mTrue\u001b[39;49;00m)\n\u001b[1;32m    636\u001b[0m     data\u001b[39m.\u001b[39mpop(\u001b[39m\"\u001b[39m\u001b[39m_step\u001b[39m\u001b[39m\"\u001b[39m, \u001b[39mNone\u001b[39;00m)\n\u001b[1;32m    638\u001b[0m     \u001b[39m# add timestamp to the history request, if not already present\u001b[39;00m\n\u001b[1;32m    639\u001b[0m     \u001b[39m# the timestamp might come from the tensorboard log logic\u001b[39;00m\n",
      "File \u001b[0;32m~/miniconda3/envs/amber-transformer/lib/python3.8/site-packages/wandb/sdk/data_types/utils.py:52\u001b[0m, in \u001b[0;36mhistory_dict_to_json\u001b[0;34m(run, payload, step, ignore_copy_err)\u001b[0m\n\u001b[1;32m     48\u001b[0m         payload[key] \u001b[39m=\u001b[39m history_dict_to_json(\n\u001b[1;32m     49\u001b[0m             run, val, step\u001b[39m=\u001b[39mstep, ignore_copy_err\u001b[39m=\u001b[39mignore_copy_err\n\u001b[1;32m     50\u001b[0m         )\n\u001b[1;32m     51\u001b[0m     \u001b[39melse\u001b[39;00m:\n\u001b[0;32m---> 52\u001b[0m         payload[key] \u001b[39m=\u001b[39m val_to_json(\n\u001b[1;32m     53\u001b[0m             run, key, val, namespace\u001b[39m=\u001b[39;49mstep, ignore_copy_err\u001b[39m=\u001b[39;49mignore_copy_err\n\u001b[1;32m     54\u001b[0m         )\n\u001b[1;32m     56\u001b[0m \u001b[39mreturn\u001b[39;00m payload\n",
      "File \u001b[0;32m~/miniconda3/envs/amber-transformer/lib/python3.8/site-packages/wandb/sdk/data_types/utils.py:86\u001b[0m, in \u001b[0;36mval_to_json\u001b[0;34m(run, key, val, namespace, ignore_copy_err)\u001b[0m\n\u001b[1;32m     83\u001b[0m     val \u001b[39m=\u001b[39m wandb\u001b[39m.\u001b[39mTable(dataframe\u001b[39m=\u001b[39mval)\n\u001b[1;32m     85\u001b[0m \u001b[39melif\u001b[39;00m util\u001b[39m.\u001b[39mis_matplotlib_typename(typename) \u001b[39mor\u001b[39;00m util\u001b[39m.\u001b[39mis_plotly_typename(typename):\n\u001b[0;32m---> 86\u001b[0m     val \u001b[39m=\u001b[39m Plotly\u001b[39m.\u001b[39;49mmake_plot_media(val)\n\u001b[1;32m     87\u001b[0m \u001b[39melif\u001b[39;00m \u001b[39misinstance\u001b[39m(val, (\u001b[39mlist\u001b[39m, \u001b[39mtuple\u001b[39m, \u001b[39mrange\u001b[39m)) \u001b[39mand\u001b[39;00m \u001b[39mall\u001b[39m(\n\u001b[1;32m     88\u001b[0m     \u001b[39misinstance\u001b[39m(v, WBValue) \u001b[39mfor\u001b[39;00m v \u001b[39min\u001b[39;00m val\n\u001b[1;32m     89\u001b[0m ):\n\u001b[1;32m     90\u001b[0m     \u001b[39massert\u001b[39;00m run\n",
      "File \u001b[0;32m~/miniconda3/envs/amber-transformer/lib/python3.8/site-packages/wandb/sdk/data_types/plotly.py:49\u001b[0m, in \u001b[0;36mPlotly.make_plot_media\u001b[0;34m(cls, val)\u001b[0m\n\u001b[1;32m     47\u001b[0m     \u001b[39mif\u001b[39;00m util\u001b[39m.\u001b[39mmatplotlib_contains_images(val):\n\u001b[1;32m     48\u001b[0m         \u001b[39mreturn\u001b[39;00m Image(val)\n\u001b[0;32m---> 49\u001b[0m     val \u001b[39m=\u001b[39m util\u001b[39m.\u001b[39;49mmatplotlib_to_plotly(val)\n\u001b[1;32m     50\u001b[0m \u001b[39mreturn\u001b[39;00m \u001b[39mcls\u001b[39m(val)\n",
      "File \u001b[0;32m~/miniconda3/envs/amber-transformer/lib/python3.8/site-packages/wandb/util.py:501\u001b[0m, in \u001b[0;36mmatplotlib_to_plotly\u001b[0;34m(obj)\u001b[0m\n\u001b[1;32m    499\u001b[0m \u001b[39mdef\u001b[39;00m \u001b[39mmatplotlib_to_plotly\u001b[39m(obj: Any) \u001b[39m-\u001b[39m\u001b[39m>\u001b[39m Any:\n\u001b[1;32m    500\u001b[0m     obj \u001b[39m=\u001b[39m ensure_matplotlib_figure(obj)\n\u001b[0;32m--> 501\u001b[0m     tools \u001b[39m=\u001b[39m get_module(\n\u001b[1;32m    502\u001b[0m         \u001b[39m\"\u001b[39;49m\u001b[39mplotly.tools\u001b[39;49m\u001b[39m\"\u001b[39;49m,\n\u001b[1;32m    503\u001b[0m         required\u001b[39m=\u001b[39;49m(\n\u001b[1;32m    504\u001b[0m             \u001b[39m\"\u001b[39;49m\u001b[39mplotly is required to log interactive plots, install with: \u001b[39;49m\u001b[39m\"\u001b[39;49m\n\u001b[1;32m    505\u001b[0m             \u001b[39m\"\u001b[39;49m\u001b[39m`pip install plotly` or convert the plot to an image with `wandb.Image(plt)`\u001b[39;49m\u001b[39m\"\u001b[39;49m\n\u001b[1;32m    506\u001b[0m         ),\n\u001b[1;32m    507\u001b[0m     )\n\u001b[1;32m    508\u001b[0m     \u001b[39mreturn\u001b[39;00m tools\u001b[39m.\u001b[39mmpl_to_plotly(obj)\n",
      "File \u001b[0;32m~/miniconda3/envs/amber-transformer/lib/python3.8/site-packages/wandb/util.py:264\u001b[0m, in \u001b[0;36mget_module\u001b[0;34m(name, required, lazy)\u001b[0m\n\u001b[1;32m    262\u001b[0m             logger\u001b[39m.\u001b[39mexception(msg)\n\u001b[1;32m    263\u001b[0m \u001b[39mif\u001b[39;00m required \u001b[39mand\u001b[39;00m name \u001b[39min\u001b[39;00m _not_importable:\n\u001b[0;32m--> 264\u001b[0m     \u001b[39mraise\u001b[39;00m wandb\u001b[39m.\u001b[39mError(required)\n",
      "\u001b[0;31mError\u001b[0m: plotly is required to log interactive plots, install with: `pip install plotly` or convert the plot to an image with `wandb.Image(plt)`"
     ]
    },
    {
     "data": {
      "text/plain": [
       "<Figure size 640x480 with 0 Axes>"
      ]
     },
     "metadata": {},
     "output_type": "display_data"
    }
   ],
   "source": [
    "# Plot the losses\n",
    "plt.plot(losses, label='Training Loss')\n",
    "plt.xlabel('Iteration')\n",
    "plt.ylabel('Loss')\n",
    "plt.title('Training Loss Over Iterations')\n",
    "plt.legend()\n",
    "plt.show()"
   ]
  },
  {
   "cell_type": "markdown",
   "metadata": {},
   "source": [
    "Define different sampling strategies (how do you choose the next token)"
   ]
  },
  {
   "cell_type": "code",
   "execution_count": null,
   "metadata": {},
   "outputs": [],
   "source": [
    "#define different sampling approaches to test out\n",
    "def greedy_decode(next_token_options, x):\n",
    "  next_token = torch.argmax(next_token_options) # find index of maximum value in each row \n",
    "  x = torch.cat([x, next_token.unsqueeze(0)]) #here we're just adding the last, converted to 2D\n",
    "  return x\n",
    "\n",
    "def random_sample(next_token_options, x):\n",
    "  next_token = torch.multinomial(next_token_options, 1)  # Sample the next token using a multinomial distribution\n",
    "  x = torch.cat([x, next_token])  # Add the sampled token to the sequence\n",
    "  return x\n",
    "\n",
    "def top_k_sample(next_token_options, x, k=30):\n",
    "  top_k_values, top_k_indices = torch.topk(next_token_options, k)  # Get the top-k values and indices\n",
    "  next_token = top_k_indices[torch.randint(k, (1,))]\n",
    "  x = torch.cat([x, next_token])  # Add the selected token to the sequence\n",
    "  return x"
   ]
  },
  {
   "cell_type": "markdown",
   "metadata": {},
   "source": [
    "Generate some text from a random start token"
   ]
  },
  {
   "cell_type": "code",
   "execution_count": null,
   "metadata": {},
   "outputs": [
    {
     "name": "stdout",
     "output_type": "stream",
     "text": [
      "find next token after: plan\n",
      "Generate: plan it , to sheing s she, s heed the  She dayoay\n"
     ]
    }
   ],
   "source": [
    "random_start_token = random.randint(3, vocab_size)\n",
    "x = sentence_piece_tokenizer.decode([random_start_token])\n",
    "x = torch.cat([sos, torch.tensor(sentence_piece_tokenizer.encode(x))])\n",
    "print(\"find next token after:\", sentence_piece_tokenizer.decode(x.tolist()))\n",
    "while True:\n",
    "  p = m(x) #logits\n",
    "  p = torch.nn.functional.softmax(p, dim=1) #convert logits to likelihood out of 1\n",
    "  next_token_options = p[-1]\n",
    "  x = top_k_sample(next_token_options, x)\n",
    "  if x[-1] == 1 or len(p.tolist()) == 20: break #stop generating if last token is end token or sequence len is 17\n",
    "print(\"Generate:\", sentence_piece_tokenizer.decode(x.tolist()))"
   ]
  }
 ],
 "metadata": {
  "kernelspec": {
   "display_name": "Python 3",
   "language": "python",
   "name": "python3"
  },
  "language_info": {
   "codemirror_mode": {
    "name": "ipython",
    "version": 3
   },
   "file_extension": ".py",
   "mimetype": "text/x-python",
   "name": "python",
   "nbconvert_exporter": "python",
   "pygments_lexer": "ipython3",
   "version": "3.8.17"
  },
  "orig_nbformat": 4
 },
 "nbformat": 4,
 "nbformat_minor": 2
}
